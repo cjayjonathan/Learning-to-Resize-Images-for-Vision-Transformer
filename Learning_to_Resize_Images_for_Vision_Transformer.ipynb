{
  "nbformat": 4,
  "nbformat_minor": 0,
  "metadata": {
    "colab": {
      "name": "Learning to Resize Images for Vision Transformer.ipynb",
      "provenance": [],
      "authorship_tag": "ABX9TyMmtxL+CJ7Zph8ffypqQ0V6",
      "include_colab_link": true
    },
    "kernelspec": {
      "name": "python3",
      "display_name": "Python 3"
    },
    "language_info": {
      "name": "python"
    },
    "accelerator": "GPU"
  },
  "cells": [
    {
      "cell_type": "markdown",
      "metadata": {
        "id": "view-in-github",
        "colab_type": "text"
      },
      "source": [
        "<a href=\"https://colab.research.google.com/github/cjayjonathan/Learning-to-Resize-Images-for-Vision-Transformer/blob/main/Learning_to_Resize_Images_for_Vision_Transformer.ipynb\" target=\"_parent\"><img src=\"https://colab.research.google.com/assets/colab-badge.svg\" alt=\"Open In Colab\"/></a>"
      ]
    },
    {
      "cell_type": "code",
      "execution_count": 2,
      "metadata": {
        "id": "D-NrrYdV3aUP"
      },
      "outputs": [],
      "source": [
        "import numpy as np \n",
        "import pandas as pd \n",
        "import matplotlib.pyplot as plt \n",
        "\n",
        "import os\n",
        "os.environ['TF_CPP_MIN_LOG_LEVEL'] = '3'\n",
        "\n",
        "import tensorflow as tf \n",
        "from tensorflow import keras \n",
        "from tensorflow.keras import callbacks\n",
        "from tensorflow.keras import layers, losses, optimizers, metrics\n",
        "import tensorflow_hub as hub\n",
        "\n",
        "try:\n",
        "    physical_devices = tf.config.list_physical_devices('GPU')\n",
        "    tf.config.experimental.set_memory_growth(physical_devices[0], True)\n",
        "except:\n",
        "    pass \n",
        "\n",
        "# this enables mixed_precision and jit compiler \n",
        "tf.keras.mixed_precision.set_global_policy('mixed_float16')\n",
        "tf.config.optimizer.set_jit(True)"
      ]
    }
  ]
}